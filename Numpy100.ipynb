{
 "cells": [
  {
   "cell_type": "code",
   "execution_count": 3,
   "metadata": {},
   "outputs": [],
   "source": [
    "#1. Import the numpy package under the name np (★☆☆)\n",
    "import numpy as np"
   ]
  },
  {
   "cell_type": "code",
   "execution_count": null,
   "metadata": {},
   "outputs": [],
   "source": [
    "#2. Print the numpy version and the configuration (★☆☆)\n",
    "np.__version__"
   ]
  },
  {
   "cell_type": "code",
   "execution_count": null,
   "metadata": {},
   "outputs": [],
   "source": [
    "np.show_config()"
   ]
  },
  {
   "cell_type": "code",
   "execution_count": null,
   "metadata": {},
   "outputs": [],
   "source": [
    "#3.Create a null vector of size 10 (★☆☆)\n",
    "a = np.empty((2,10))"
   ]
  },
  {
   "cell_type": "code",
   "execution_count": null,
   "metadata": {},
   "outputs": [],
   "source": [
    "a"
   ]
  },
  {
   "cell_type": "code",
   "execution_count": null,
   "metadata": {},
   "outputs": [],
   "source": [
    "np.size(a)"
   ]
  },
  {
   "cell_type": "code",
   "execution_count": null,
   "metadata": {},
   "outputs": [],
   "source": [
    "np.shape(a)"
   ]
  },
  {
   "cell_type": "code",
   "execution_count": null,
   "metadata": {},
   "outputs": [],
   "source": [
    "np.shape(a)[1]"
   ]
  },
  {
   "cell_type": "code",
   "execution_count": null,
   "metadata": {},
   "outputs": [],
   "source": [
    "#4. How to find the memory size of any array (★☆☆)\n",
    "#获取内存大小\n",
    "b = np.size(a)\n",
    "c = a.itemsize\n",
    "b*c"
   ]
  },
  {
   "cell_type": "code",
   "execution_count": null,
   "metadata": {},
   "outputs": [],
   "source": [
    "a.size"
   ]
  },
  {
   "cell_type": "code",
   "execution_count": null,
   "metadata": {},
   "outputs": [],
   "source": [
    "a.shape"
   ]
  },
  {
   "cell_type": "code",
   "execution_count": null,
   "metadata": {},
   "outputs": [],
   "source": [
    "a.dtype"
   ]
  },
  {
   "cell_type": "code",
   "execution_count": null,
   "metadata": {},
   "outputs": [],
   "source": [
    "#5. How to get the documentation of the numpy add function from the command line? (★☆☆)\n",
    "#在np库中获取特定函数信息的方法\n",
    "np.info(np.add)"
   ]
  },
  {
   "cell_type": "code",
   "execution_count": null,
   "metadata": {},
   "outputs": [],
   "source": [
    "#6. Create a null vector of size 10 but the fifth value which is 1 (★☆☆)\n",
    "d = np.empty(10)\n",
    "d[4] = 1\n",
    "d"
   ]
  },
  {
   "cell_type": "code",
   "execution_count": null,
   "metadata": {},
   "outputs": [],
   "source": [
    "#7. Create a vector with values ranging from 10 to 49 (★☆☆)\n",
    "e1 = np.array(range(10,50))"
   ]
  },
  {
   "cell_type": "code",
   "execution_count": 22,
   "metadata": {},
   "outputs": [
    {
     "data": {
      "text/plain": [
       "array([10, 11, 12, 13, 14, 15, 16, 17, 18, 19, 20, 21, 22, 23, 24, 25, 26,\n",
       "       27, 28, 29, 30, 31, 32, 33, 34, 35, 36, 37, 38, 39, 40, 41, 42, 43,\n",
       "       44, 45, 46, 47, 48, 49])"
      ]
     },
     "execution_count": 22,
     "metadata": {},
     "output_type": "execute_result"
    }
   ],
   "source": [
    "e2 = np.arange(10,50)\n",
    "e2"
   ]
  },
  {
   "cell_type": "code",
   "execution_count": null,
   "metadata": {},
   "outputs": [],
   "source": [
    "#8. Reverse a vector (first element becomes last) (★☆☆)\n",
    "e3 = a[::-1]\n",
    "e3"
   ]
  },
  {
   "cell_type": "code",
   "execution_count": null,
   "metadata": {},
   "outputs": [],
   "source": [
    "#9. Create a 3x3 matrix with values ranging from 0 to 8 (★☆☆)\n",
    "np.arange(0,9).reshape(3,3)"
   ]
  },
  {
   "cell_type": "code",
   "execution_count": null,
   "metadata": {},
   "outputs": [],
   "source": [
    "#10. Find indices of non-zero elements from [1,2,0,0,4,0] (★☆☆)\n",
    "f = np.array([1,2,0,0,4,0])\n",
    "f1 = []\n",
    "for num in f:\n",
    "    if num != 0:\n",
    "        f1.append(num)\n",
    "f1"
   ]
  },
  {
   "cell_type": "code",
   "execution_count": null,
   "metadata": {},
   "outputs": [],
   "source": [
    "#11. Create a 3x3 identity matrix (★☆☆)\n",
    "g = np.identity(3)"
   ]
  },
  {
   "cell_type": "code",
   "execution_count": null,
   "metadata": {},
   "outputs": [],
   "source": [
    "np.random.random_sample(g.shape)"
   ]
  },
  {
   "cell_type": "code",
   "execution_count": null,
   "metadata": {},
   "outputs": [],
   "source": [
    "np.random.rand(9).reshape(3,3)"
   ]
  },
  {
   "cell_type": "code",
   "execution_count": null,
   "metadata": {},
   "outputs": [],
   "source": [
    "np.info(np.random)"
   ]
  },
  {
   "cell_type": "code",
   "execution_count": null,
   "metadata": {},
   "outputs": [],
   "source": [
    "#12. Create a 3x3x3 array with random values (★☆☆)\n",
    "#13. Create a 10x10 array with random values and find the minimum and maximum values\n",
    "h = np.random.random(100).reshape(10,10)"
   ]
  },
  {
   "cell_type": "code",
   "execution_count": null,
   "metadata": {},
   "outputs": [],
   "source": [
    "np.max(h)"
   ]
  },
  {
   "cell_type": "code",
   "execution_count": null,
   "metadata": {},
   "outputs": [],
   "source": [
    "np.min(h)"
   ]
  },
  {
   "cell_type": "code",
   "execution_count": null,
   "metadata": {},
   "outputs": [],
   "source": [
    "#14. Create a random vector of size 30 and find the mean value (★☆☆)\n",
    "i = np.random.random(30)"
   ]
  },
  {
   "cell_type": "code",
   "execution_count": null,
   "metadata": {},
   "outputs": [],
   "source": [
    "np.info(np.average)"
   ]
  },
  {
   "cell_type": "code",
   "execution_count": null,
   "metadata": {},
   "outputs": [],
   "source": [
    "np.average(i)"
   ]
  },
  {
   "cell_type": "code",
   "execution_count": null,
   "metadata": {},
   "outputs": [],
   "source": [
    "#15. Create a 2d array with 1 on the border and 0 inside (★☆☆)\n",
    "j = np.ones((10,10))\n",
    "j[1:-1,1:-1] = 0\n",
    "j"
   ]
  },
  {
   "cell_type": "code",
   "execution_count": null,
   "metadata": {},
   "outputs": [],
   "source": [
    "#6. How to add a border (filled with 0's) around an existing array? (★☆☆)\n",
    "np.pad(j,pad_width = 1, mode = 'constant',constant_values = 10)"
   ]
  },
  {
   "cell_type": "code",
   "execution_count": null,
   "metadata": {},
   "outputs": [],
   "source": [
    "#17. What is the result of the following expression? (★☆☆)\n",
    "'''\n",
    "0 * np.nan\n",
    "np.nan == np.nan\n",
    "np.inf > np.nan\n",
    "np.nan - np.nan\n",
    "np.nan in set([np.nan])\n",
    "0.3 == 3 * 0.1\n",
    "'''\n",
    "0*np.nan"
   ]
  },
  {
   "cell_type": "code",
   "execution_count": null,
   "metadata": {},
   "outputs": [],
   "source": [
    "np.info(np.nan)"
   ]
  },
  {
   "cell_type": "code",
   "execution_count": null,
   "metadata": {},
   "outputs": [],
   "source": [
    "np.nan == np.nan"
   ]
  },
  {
   "cell_type": "code",
   "execution_count": null,
   "metadata": {},
   "outputs": [],
   "source": [
    "np.inf >np.nan\n",
    "#np.nan不能进行比较"
   ]
  },
  {
   "cell_type": "code",
   "execution_count": null,
   "metadata": {},
   "outputs": [],
   "source": [
    "np.nan - np.nan\n",
    "#nan参与运算必然是nan"
   ]
  },
  {
   "cell_type": "code",
   "execution_count": null,
   "metadata": {},
   "outputs": [],
   "source": [
    "np.nan in set([np.nan])\n",
    "#set得到的是无序集合"
   ]
  },
  {
   "cell_type": "code",
   "execution_count": null,
   "metadata": {},
   "outputs": [],
   "source": [
    "0.3 == 3*0.1\n",
    "#浮点数在计算机中储存为二进制，所以比较仍然存在问题"
   ]
  },
  {
   "cell_type": "code",
   "execution_count": null,
   "metadata": {},
   "outputs": [],
   "source": [
    "#18. Create a 5x5 matrix with values 1,2,3,4 just below the diagonal (★☆☆)\n",
    "np.diag([1,2,3,4],1)"
   ]
  },
  {
   "cell_type": "code",
   "execution_count": null,
   "metadata": {},
   "outputs": [],
   "source": [
    "#19. Create a 8x8 matrix and fill it with a checkerboard pattern (★☆☆)\n",
    "k = np.zeros((8,8))\n",
    "k[1::2,::2] = 1\n",
    "k[::2,1::2] = 1\n",
    "k"
   ]
  },
  {
   "cell_type": "code",
   "execution_count": null,
   "metadata": {},
   "outputs": [],
   "source": [
    "#20. Consider a (6,7,8) shape array, what is the index (x,y,z) of the 100th element?\n",
    "np.unravel_index(99,(6,7,8))"
   ]
  },
  {
   "cell_type": "code",
   "execution_count": null,
   "metadata": {},
   "outputs": [],
   "source": [
    "#21. Create a checkerboard 8x8 matrix using the tile function (★☆☆)\n",
    "np.tile([[0,1],[1,0]],(4,4))"
   ]
  },
  {
   "cell_type": "code",
   "execution_count": null,
   "metadata": {},
   "outputs": [],
   "source": [
    "#22. Normalize a 5x5 random matrix (★☆☆)\n",
    "k-np.mean(k))/np.std(k)"
   ]
  },
  {
   "cell_type": "code",
   "execution_count": null,
   "metadata": {},
   "outputs": [],
   "source": [
    "#23 Create a custom dtype that describes a color as four unsigned bytes (RGBA) (★☆☆)\n",
    "RGBA = np.dtype([(\"r\", np.ubyte, 1),\n",
    "                  (\"g\", np.ubyte, 1),\n",
    "                  (\"b\", np.ubyte, 1),\n",
    "                  (\"a\", np.ubyte, 1)])\n",
    "RGBA"
   ]
  },
  {
   "cell_type": "code",
   "execution_count": null,
   "metadata": {},
   "outputs": [],
   "source": [
    "#24. Multiply a 5x3 matrix by a 3x2 matrix (real matrix product) \n",
    "np.dot(np.ones((5,3)),np.ones((3,2)))"
   ]
  },
  {
   "cell_type": "markdown",
   "metadata": {},
   "source": [
    "### np.array和np.mat的区别"
   ]
  },
  {
   "cell_type": "markdown",
   "metadata": {},
   "source": [
    "事实上是数组和矩阵的区别，数组取出一列还是一维的，但是矩阵中取出一列还是二维数组\n",
    "\n",
    "在运算方式上np.dot始终表示矩阵乘法，但是矩阵的点乘用np.multiply(),数组用*也可以"
   ]
  },
  {
   "cell_type": "code",
   "execution_count": null,
   "metadata": {},
   "outputs": [],
   "source": [
    "np.multiply(np.array([2,2]),np.array([[2],[2]]))"
   ]
  },
  {
   "cell_type": "code",
   "execution_count": null,
   "metadata": {},
   "outputs": [],
   "source": [
    "#25. Given a 1D array, negate all elements which are between 3 and 8, in place. (★☆☆)\n",
    "l = np.array([1,2,3,4,5,6,7,8,9,10])\n",
    "l1 = np.array([int(num) for num in l])\n",
    "l2 = l1\n",
    "l2[4:8] = (-1)*l2[4:8]\n",
    "l2\n",
    "l4 = np.random.randint(1,10,10)\n",
    "l4[(3 <l4) & (l4 <= 8)] *= -1\n",
    "l4"
   ]
  },
  {
   "cell_type": "code",
   "execution_count": null,
   "metadata": {},
   "outputs": [],
   "source": [
    "'''\n",
    "26. What is the output of the following script? (★☆☆)\n",
    "# Author: Jake VanderPlas\n",
    "\n",
    "print(sum(range(5),-1))\n",
    "from numpy import *\n",
    "print(sum(range(5),-1))\n",
    "'''\n",
    "print(sum(range(5),-1))\n",
    "from numpy import *\n",
    "print(sum(range(5),0))\n",
    "#该题目考查了python自带sum和numpy的np.sum的区别\n",
    "#sum不能处理二维数组，只是对一维数据求和，\n",
    "#np.sum则可以，其第二个参数指定按列（axis=0）\n",
    "#或行(axis=1)求和,不设该参数是全部求和。"
   ]
  },
  {
   "cell_type": "code",
   "execution_count": null,
   "metadata": {},
   "outputs": [],
   "source": [
    "sum(range(5),-1)"
   ]
  },
  {
   "cell_type": "code",
   "execution_count": 4,
   "metadata": {},
   "outputs": [
    {
     "data": {
      "text/plain": [
       "array([2, 3, 2, 8, 6, 2, 5, 2, 5, 4])"
      ]
     },
     "execution_count": 4,
     "metadata": {},
     "output_type": "execute_result"
    }
   ],
   "source": [
    "'''\n",
    "27. Consider an integer vector Z, which of these expressions are legal? (★☆☆)\n",
    "Z**Z\n",
    "2 << Z >> 2\n",
    "Z <- Z\n",
    "1j*Z\n",
    "Z/1/1\n",
    "Z<Z>Z\n",
    "'''\n",
    "z = np.random.randint(1,10,10)\n",
    "z"
   ]
  },
  {
   "cell_type": "code",
   "execution_count": 6,
   "metadata": {},
   "outputs": [
    {
     "data": {
      "text/plain": [
       "array([387420489,  16777216,        27,        27,         4,    823543,\n",
       "        16777216, 387420489,         4,  16777216], dtype=int32)"
      ]
     },
     "execution_count": 6,
     "metadata": {},
     "output_type": "execute_result"
    }
   ],
   "source": [
    "z**z"
   ]
  },
  {
   "cell_type": "code",
   "execution_count": 7,
   "metadata": {},
   "outputs": [
    {
     "data": {
      "text/plain": [
       "array([256, 128,   4,   4,   2,  64, 128, 256,   2, 128], dtype=int32)"
      ]
     },
     "execution_count": 7,
     "metadata": {},
     "output_type": "execute_result"
    }
   ],
   "source": [
    "2 << z >> 2"
   ]
  },
  {
   "cell_type": "code",
   "execution_count": 8,
   "metadata": {},
   "outputs": [
    {
     "data": {
      "text/plain": [
       "array([False, False, False, False, False, False, False, False, False,\n",
       "       False])"
      ]
     },
     "execution_count": 8,
     "metadata": {},
     "output_type": "execute_result"
    }
   ],
   "source": [
    "z <- z"
   ]
  },
  {
   "cell_type": "code",
   "execution_count": 10,
   "metadata": {},
   "outputs": [
    {
     "data": {
      "text/plain": [
       "array([0.+9.j, 0.+8.j, 0.+3.j, 0.+3.j, 0.+2.j, 0.+7.j, 0.+8.j, 0.+9.j,\n",
       "       0.+2.j, 0.+8.j])"
      ]
     },
     "execution_count": 10,
     "metadata": {},
     "output_type": "execute_result"
    }
   ],
   "source": [
    "1j*z"
   ]
  },
  {
   "cell_type": "code",
   "execution_count": 12,
   "metadata": {},
   "outputs": [
    {
     "data": {
      "text/plain": [
       "array([9., 8., 3., 3., 2., 7., 8., 9., 2., 8.])"
      ]
     },
     "execution_count": 12,
     "metadata": {},
     "output_type": "execute_result"
    }
   ],
   "source": [
    "z/1/1"
   ]
  },
  {
   "cell_type": "code",
   "execution_count": 18,
   "metadata": {},
   "outputs": [
    {
     "ename": "ValueError",
     "evalue": "The truth value of an array with more than one element is ambiguous. Use a.any() or a.all()",
     "output_type": "error",
     "traceback": [
      "\u001b[1;31m---------------------------------------------------------------------------\u001b[0m",
      "\u001b[1;31mValueError\u001b[0m                                Traceback (most recent call last)",
      "\u001b[1;32m<ipython-input-18-25fc7bedca6c>\u001b[0m in \u001b[0;36m<module>\u001b[1;34m\u001b[0m\n\u001b[1;32m----> 1\u001b[1;33m \u001b[0mz\u001b[0m\u001b[1;33m<\u001b[0m\u001b[0mz\u001b[0m\u001b[1;33m>\u001b[0m\u001b[0mz\u001b[0m\u001b[1;33m\u001b[0m\u001b[1;33m\u001b[0m\u001b[0m\n\u001b[0m",
      "\u001b[1;31mValueError\u001b[0m: The truth value of an array with more than one element is ambiguous. Use a.any() or a.all()"
     ]
    }
   ],
   "source": [
    "z<z>z"
   ]
  },
  {
   "cell_type": "code",
   "execution_count": 22,
   "metadata": {},
   "outputs": [
    {
     "data": {
      "text/plain": [
       "array([-2.14748365e+09])"
      ]
     },
     "execution_count": 22,
     "metadata": {},
     "output_type": "execute_result"
    }
   ],
   "source": [
    "'''\n",
    "28. What are the result of the following expressions?\n",
    "np.array(0) / np.array(0)\n",
    "np.array(0) // np.array(0)\n",
    "np.array([np.nan]).astype(int).astype(float)\n",
    "'''\n",
    "\n",
    "#np.array(0) / np.array(0)\n",
    "#np.array(0) // np.array(0)\n",
    "np.array([np.nan]).astype(int).astype(float)"
   ]
  },
  {
   "cell_type": "code",
   "execution_count": 25,
   "metadata": {},
   "outputs": [
    {
     "data": {
      "text/plain": [
       "array([0.28, 0.3 , 0.52, 0.34, 0.11, 0.7 , 0.56, 0.22, 0.17, 0.69])"
      ]
     },
     "execution_count": 25,
     "metadata": {},
     "output_type": "execute_result"
    }
   ],
   "source": [
    "#29. How to round away from zero a float array ? (★☆☆)\n",
    "#四舍五入保留两位小数\n",
    "m = np.random.random(10)\n",
    "np.around(m,2)"
   ]
  },
  {
   "cell_type": "code",
   "execution_count": 34,
   "metadata": {},
   "outputs": [
    {
     "data": {
      "text/plain": [
       "array([1, 3, 7, 9])"
      ]
     },
     "execution_count": 34,
     "metadata": {},
     "output_type": "execute_result"
    }
   ],
   "source": [
    "#30. How to find common values between two arrays? (★☆☆)\n",
    "n1 = np.random.randint(1,10,10)\n",
    "n2 = np.random.randint(1,10,10)\n",
    "#np.info(np.intersect1d)\n",
    "np.intersect1d(n1,n2)"
   ]
  },
  {
   "cell_type": "code",
   "execution_count": 35,
   "metadata": {},
   "outputs": [
    {
     "name": "stdout",
     "output_type": "stream",
     "text": [
      "[7 9 1 4 6 4 4 9 3 7]\n",
      "[8 3 5 5 1 3 5 7 9 5]\n"
     ]
    }
   ],
   "source": [
    "print(n1)\n",
    "print(n2)"
   ]
  },
  {
   "cell_type": "markdown",
   "metadata": {},
   "source": [
    "31. How to ignore all numpy warnings (not recommended)? (★☆☆)\n",
    "hint: np.seterr, np.errstate\n",
    "\n",
    "32. Is the following expressions true? (★☆☆)\n",
    "np.sqrt(-1) == np.emath.sqrt(-1)\n",
    "hint: imaginary number\n",
    "\n",
    "33. How to get the dates of yesterday, today and tomorrow? (★☆☆)\n",
    "hint: np.datetime64, np.timedelta64\n",
    "\n",
    "34. How to get all the dates corresponding to the month of July 2016? (★★☆)\n",
    "hint: np.arange(dtype=datetime64['D'])\n",
    "\n",
    "35. How to compute ((A+B)*(-A/2)) in place (without copy)? (★★☆)\n",
    "hint: np.add(out=), np.negative(out=), np.multiply(out=), np.divide(out=)\n",
    "\n",
    "36. Extract the integer part of a random array of positive numbers using 4 different methods (★★☆)\n",
    "hint: %, np.floor, astype, np.trunc\n",
    "\n",
    "37. Create a 5x5 matrix with row values ranging from 0 to 4 (★★☆)\n",
    "hint: np.arange\n",
    "\n",
    "38. Consider a generator function that generates 10 integers and use it to build an array (★☆☆)\n",
    "hint: np.fromiter\n",
    "\n",
    "39. Create a vector of size 10 with values ranging from 0 to 1, both excluded (★★☆)\n",
    "hint: np.linspace\n",
    "\n",
    "40. Create a random vector of size 10 and sort it (★★☆)\n",
    "hint: sort"
   ]
  },
  {
   "cell_type": "code",
   "execution_count": 7,
   "metadata": {},
   "outputs": [
    {
     "name": "stderr",
     "output_type": "stream",
     "text": [
      "<ipython-input-7-e8a477328d03>:2: RuntimeWarning: invalid value encountered in sqrt\n",
      "  b = np.sqrt(-1)\n"
     ]
    },
    {
     "data": {
      "text/plain": [
       "False"
      ]
     },
     "execution_count": 7,
     "metadata": {},
     "output_type": "execute_result"
    }
   ],
   "source": [
    "# 32. Is the following expressions true? (★☆☆)\n",
    "a = np.emath.sqrt(-1)\n",
    "b = np.sqrt(-1)\n",
    "a == b"
   ]
  },
  {
   "cell_type": "code",
   "execution_count": 16,
   "metadata": {},
   "outputs": [
    {
     "name": "stdout",
     "output_type": "stream",
     "text": [
      "today:2021-04-04\n",
      "yesterday:2021-04-03\n",
      "tomorrow:2021-04-05\n"
     ]
    }
   ],
   "source": [
    "#33. How to get the dates of yesterday, today and tomorrow? (★☆☆)\n",
    "print(\"today:{}\".format(np.datetime64('today','D')))\n",
    "print(\"yesterday:{}\".format(np.datetime64('today','D')-np.timedelta64('1','D')))\n",
    "print(\"tomorrow:{}\".format(np.datetime64('today','D')+np.timedelta64('1','D')))"
   ]
  },
  {
   "cell_type": "code",
   "execution_count": 23,
   "metadata": {},
   "outputs": [
    {
     "data": {
      "text/plain": [
       "array(['20210301-01-01', '20210301-01-02', '20210301-01-03', ...,\n",
       "       '20210309-12-29', '20210309-12-30', '20210309-12-31'],\n",
       "      dtype='datetime64[D]')"
      ]
     },
     "execution_count": 23,
     "metadata": {},
     "output_type": "execute_result"
    }
   ],
   "source": [
    "#34. How to get all the dates corresponding to the month of July 2016? (★★☆)\n",
    "np.arange('20210301','20210310',dtype='datetime64[D]')"
   ]
  },
  {
   "cell_type": "code",
   "execution_count": 20,
   "metadata": {},
   "outputs": [
    {
     "data": {
      "text/plain": [
       "array([-1.5, -1.5, -1.5])"
      ]
     },
     "execution_count": 20,
     "metadata": {},
     "output_type": "execute_result"
    }
   ],
   "source": [
    "#35.How to compute ((A+B)*(-A/2)) in place (without copy)? (★★☆)\n",
    "a = np.ones(3)\n",
    "b = np.ones(3)*2\n",
    "np.add(a,b,out = b)\n",
    "np.negative(a,out = a)\n",
    "np.multiply(a,b,out = b)\n",
    "np.divide(b,2)"
   ]
  },
  {
   "cell_type": "code",
   "execution_count": 21,
   "metadata": {},
   "outputs": [
    {
     "data": {
      "text/plain": [
       "array([4.15779286, 4.06321153, 8.36233284, 3.92757124, 3.00182527,\n",
       "       5.68762374, 3.61676938, 4.40203551, 0.11571865, 1.00892278])"
      ]
     },
     "execution_count": 21,
     "metadata": {},
     "output_type": "execute_result"
    }
   ],
   "source": [
    "#36. Extract the integer part of a random array of positive numbers using 4 different methods (★★☆)\n",
    "z = np.random.uniform(0,10,10)\n",
    "z"
   ]
  },
  {
   "cell_type": "code",
   "execution_count": 37,
   "metadata": {},
   "outputs": [
    {
     "data": {
      "text/plain": [
       "array([ 4.,  4.,  8.,  3.,  3.,  5.,  3.,  4., -0.,  1.])"
      ]
     },
     "execution_count": 37,
     "metadata": {},
     "output_type": "execute_result"
    }
   ],
   "source": [
    "z1 = np.around(z-0.5)\n",
    "z1"
   ]
  },
  {
   "cell_type": "code",
   "execution_count": 30,
   "metadata": {},
   "outputs": [
    {
     "data": {
      "text/plain": [
       "array([4., 4., 8., 3., 3., 5., 3., 4., 0., 1.])"
      ]
     },
     "execution_count": 30,
     "metadata": {},
     "output_type": "execute_result"
    }
   ],
   "source": [
    "z2 = z - z % 1\n",
    "z2"
   ]
  },
  {
   "cell_type": "code",
   "execution_count": 31,
   "metadata": {},
   "outputs": [
    {
     "data": {
      "text/plain": [
       "array([4., 4., 8., 3., 3., 5., 3., 4., 0., 1.])"
      ]
     },
     "execution_count": 31,
     "metadata": {},
     "output_type": "execute_result"
    }
   ],
   "source": [
    "z3 = np.floor(z)\n",
    "z3"
   ]
  },
  {
   "cell_type": "code",
   "execution_count": 35,
   "metadata": {},
   "outputs": [
    {
     "data": {
      "text/plain": [
       "array([4, 4, 8, 3, 3, 5, 3, 4, 0, 1])"
      ]
     },
     "execution_count": 35,
     "metadata": {},
     "output_type": "execute_result"
    }
   ],
   "source": [
    "z4 = z.astype(int)\n",
    "z4"
   ]
  },
  {
   "cell_type": "code",
   "execution_count": 36,
   "metadata": {},
   "outputs": [
    {
     "data": {
      "text/plain": [
       "array([4., 4., 8., 3., 3., 5., 3., 4., 0., 1.])"
      ]
     },
     "execution_count": 36,
     "metadata": {},
     "output_type": "execute_result"
    }
   ],
   "source": [
    "z5 = np.trunc(z)\n",
    "z5"
   ]
  },
  {
   "cell_type": "code",
   "execution_count": 49,
   "metadata": {},
   "outputs": [
    {
     "data": {
      "text/plain": [
       "array([[0., 1., 2., 3., 4.],\n",
       "       [0., 1., 2., 3., 4.],\n",
       "       [0., 1., 2., 3., 4.],\n",
       "       [0., 1., 2., 3., 4.],\n",
       "       [0., 1., 2., 3., 4.]])"
      ]
     },
     "execution_count": 49,
     "metadata": {},
     "output_type": "execute_result"
    }
   ],
   "source": [
    "#37. Create a 5x5 matrix with row values ranging from 0 to 4 (★★☆)\n",
    "m = np.arange(0,5)\n",
    "m1 = np.zeros((5,5))\n",
    "m1 += m\n",
    "m1"
   ]
  },
  {
   "cell_type": "code",
   "execution_count": 57,
   "metadata": {},
   "outputs": [
    {
     "data": {
      "text/plain": [
       "array([0, 1, 2, 3, 4, 5, 6, 7, 8, 9])"
      ]
     },
     "execution_count": 57,
     "metadata": {},
     "output_type": "execute_result"
    }
   ],
   "source": [
    "#38. Consider a generator function that generates 10 integers and use it to build an array (★☆☆)\n",
    "def gen():\n",
    "    for x in range(10):\n",
    "        yield x\n",
    "np.fromiter(gen(),dtype = int)\n",
    "\n",
    "#不知道在干嘛"
   ]
  },
  {
   "cell_type": "code",
   "execution_count": 68,
   "metadata": {},
   "outputs": [
    {
     "data": {
      "text/plain": [
       "array([0.09090909, 0.18181818, 0.27272727, 0.36363636, 0.45454545,\n",
       "       0.54545455, 0.63636364, 0.72727273, 0.81818182, 0.90909091])"
      ]
     },
     "execution_count": 68,
     "metadata": {},
     "output_type": "execute_result"
    }
   ],
   "source": [
    "#39. Create a vector of size 10 with values ranging from 0 to 1, both excluded (★★☆)\n",
    "#创建一个10维的向量，不包含0和1\n",
    "np.linspace(0,1,num = 11,endpoint = False)[1:]\n",
    "#np.linspace就是等间距地生成数组，endpoint就是包不包含右端点"
   ]
  },
  {
   "cell_type": "code",
   "execution_count": 79,
   "metadata": {},
   "outputs": [
    {
     "data": {
      "text/plain": [
       "array([0.00163254, 0.22262472, 0.2932245 , 0.40498055, 0.59212251,\n",
       "       0.68555626, 0.76754748, 0.84742938, 0.91025368, 0.99985623])"
      ]
     },
     "execution_count": 79,
     "metadata": {},
     "output_type": "execute_result"
    }
   ],
   "source": [
    "#40. Create a random vector of size 10 and sort it (★★☆)\n",
    "a = np.random.random(10)\n",
    "np.sort(a,axis = 0)"
   ]
  },
  {
   "cell_type": "markdown",
   "metadata": {},
   "source": [
    "41. How to sum a small array faster than np.sum? (★★☆)\n",
    "hint: np.add.reduce\n",
    "\n",
    "42. Consider two random array A and B, check if they are equal (★★☆)\n",
    "hint: np.allclose, np.array_equal\n",
    "\n",
    "43. Make an array immutable (read-only) (★★☆)\n",
    "hint: flags.writeable\n",
    "\n",
    "44. Consider a random 10x2 matrix representing cartesian coordinates, convert them to polar coordinates (★★☆)\n",
    "hint: np.sqrt, np.arctan2\n",
    "\n",
    "45. Create random vector of size 10 and replace the maximum value by 0 (★★☆)\n",
    "hint: argmax\n",
    "\n",
    "46. Create a structured array with x and y coordinates covering the [0,1]x[0,1] area (★★☆)\n",
    "hint: np.meshgrid\n",
    "\n",
    "47. Given two arrays, X and Y, construct the Cauchy matrix C (Cij =1/(xi - yj))\n",
    "hint: np.subtract.outer\n",
    "\n",
    "48. Print the minimum and maximum representable value for each numpy scalar type (★★☆)\n",
    "hint: np.iinfo, np.finfo, eps\n",
    "\n",
    "49. How to print all the values of an array? (★★☆)\n",
    "hint: np.set_printoptions\n",
    "\n",
    "50. How to find the closest value (to a given scalar) in a vector? (★★☆)\n",
    "hint: argmin"
   ]
  },
  {
   "cell_type": "code",
   "execution_count": 2,
   "metadata": {},
   "outputs": [],
   "source": [
    "import numpy as np\n",
    "import time as time"
   ]
  },
  {
   "cell_type": "code",
   "execution_count": 20,
   "metadata": {},
   "outputs": [
    {
     "name": "stdout",
     "output_type": "stream",
     "text": [
      "运行时间1为0.0 结果1为45\n",
      "运行时间2为0.0 结果2为45\n"
     ]
    },
    {
     "data": {
      "text/plain": [
       "True"
      ]
     },
     "execution_count": 20,
     "metadata": {},
     "output_type": "execute_result"
    }
   ],
   "source": [
    "#41. How to sum a small array faster than np.sum? (★★☆)\n",
    "z = np.arange(10)\n",
    "start1 = time.time()\n",
    "result = np.sum(z)\n",
    "end1 = time.time()\n",
    "t1 = end1 - start1\n",
    "print('运行时间1为{}'.format(t1),'结果1为{}'.format(result))\n",
    "start2 = time.time()\n",
    "result = np.add.reduce(z)\n",
    "end2 = time.time()\n",
    "t2 = end2 - start2\n",
    "print('运行时间2为{}'.format(t1),'结果2为{}'.format(result))\n",
    "t1 - t2 < 0"
   ]
  },
  {
   "cell_type": "code",
   "execution_count": 25,
   "metadata": {},
   "outputs": [
    {
     "name": "stdout",
     "output_type": "stream",
     "text": [
      "False False\n"
     ]
    }
   ],
   "source": [
    "#42. Consider two random array A and B, check if they are equal (★★☆)\n",
    "a = np.random.rand(2,3)\n",
    "b = np.random.rand(2,3)\n",
    "e1 = np.allclose(a,b)#在误差范围内，一般是10^(-5)\n",
    "e2 = np.array_equal(a,b)\n",
    "print(e1,e2)"
   ]
  },
  {
   "cell_type": "code",
   "execution_count": 26,
   "metadata": {},
   "outputs": [
    {
     "ename": "ValueError",
     "evalue": "assignment destination is read-only",
     "output_type": "error",
     "traceback": [
      "\u001b[1;31m---------------------------------------------------------------------------\u001b[0m",
      "\u001b[1;31mValueError\u001b[0m                                Traceback (most recent call last)",
      "\u001b[1;32m<ipython-input-26-e881ee2ab1bb>\u001b[0m in \u001b[0;36m<module>\u001b[1;34m\u001b[0m\n\u001b[0;32m      1\u001b[0m \u001b[1;31m#43. Make an array immutable (read-only) (★★☆)\u001b[0m\u001b[1;33m\u001b[0m\u001b[1;33m\u001b[0m\u001b[1;33m\u001b[0m\u001b[0m\n\u001b[0;32m      2\u001b[0m \u001b[0mz\u001b[0m\u001b[1;33m.\u001b[0m\u001b[0mflags\u001b[0m\u001b[1;33m.\u001b[0m\u001b[0mwriteable\u001b[0m \u001b[1;33m=\u001b[0m \u001b[1;36m0\u001b[0m\u001b[1;33m\u001b[0m\u001b[1;33m\u001b[0m\u001b[0m\n\u001b[1;32m----> 3\u001b[1;33m \u001b[0mz\u001b[0m\u001b[1;33m[\u001b[0m\u001b[1;36m0\u001b[0m \u001b[1;33m]\u001b[0m \u001b[1;33m=\u001b[0m \u001b[1;36m1\u001b[0m\u001b[1;33m\u001b[0m\u001b[1;33m\u001b[0m\u001b[0m\n\u001b[0m",
      "\u001b[1;31mValueError\u001b[0m: assignment destination is read-only"
     ]
    }
   ],
   "source": [
    "#43. Make an array immutable (read-only) (★★☆)\n",
    "z.flags.writeable = 0\n",
    "z[0 ] = 1"
   ]
  },
  {
   "cell_type": "code",
   "execution_count": 38,
   "metadata": {},
   "outputs": [
    {
     "data": {
      "text/plain": [
       "array([[0.78844503, 0.93236151, 1.04344394, 0.76026695, 1.06274214,\n",
       "        1.33485257, 0.13813932, 0.64758142, 1.03260681, 0.66241043],\n",
       "       [0.61162879, 0.40680256, 0.64758484, 0.44925432, 0.97874793,\n",
       "        0.81784408, 0.72246979, 1.28750944, 0.997114  , 0.09210216]])"
      ]
     },
     "execution_count": 38,
     "metadata": {},
     "output_type": "execute_result"
    }
   ],
   "source": [
    "#44. Consider a random 10x2 matrix representing cartesian coordinates, convert them to polar coordinates (★★☆)\n",
    "#将笛卡尔坐标转化为极坐标\n",
    "#极坐标的转化\n",
    "a = np.random.random((10,2))\n",
    "x = a[:,0]\n",
    "y = a[:,1]\n",
    "rao = np.sqrt(x**2+y**2)\n",
    "theta = np.arctan2(y,x)\n",
    "polar = np.array([rao,theta])\n",
    "polar"
   ]
  },
  {
   "cell_type": "code",
   "execution_count": 47,
   "metadata": {},
   "outputs": [
    {
     "name": "stdout",
     "output_type": "stream",
     "text": [
      "[0.88919789 0.83836913 0.43963692 0.05786027 0.35366838 0.93731323\n",
      " 0.18737428 0.231195   0.40692056 0.42324864]\n"
     ]
    },
    {
     "data": {
      "text/plain": [
       "array([0.88919789, 0.83836913, 0.43963692, 0.05786027, 0.35366838,\n",
       "       0.        , 0.18737428, 0.231195  , 0.40692056, 0.42324864])"
      ]
     },
     "execution_count": 47,
     "metadata": {},
     "output_type": "execute_result"
    }
   ],
   "source": [
    "#45. Create random vector of size 10 and replace the maximum value by 0 (★★☆)\n",
    "a = np.random.random(10)\n",
    "print(a)\n",
    "a[np.argmax(a)] = 0 \n",
    "a"
   ]
  },
  {
   "cell_type": "code",
   "execution_count": 16,
   "metadata": {},
   "outputs": [
    {
     "data": {
      "image/png": "[encoded data removed]",
      "text/plain": [
       "<Figure size 432x288 with 1 Axes>"
      ]
     },
     "metadata": {
      "needs_background": "light"
     },
     "output_type": "display_data"
    }
   ],
   "source": [
    "#46. Create a structured array with x and y coordinates covering the [0,1]x[0,1] area (★★☆)\n",
    "z = np.zeros((3,3),[('x',float),('y',float)])\n",
    "z['x'],z['y'] = np.meshgrid(np.linspace(0,1,3),np.linspace(0,1,3))\n",
    "a = 1/(z['x']**2+1) + 3/(z['y']**2+1)\n",
    "h = plt.contourf(z['x'],z['y'],a)\n",
    "plt.show()"
   ]
  },
  {
   "cell_type": "code",
   "execution_count": 7,
   "metadata": {},
   "outputs": [
    {
     "data": {
      "image/png": "[encoded data removed]",
      "text/plain": [
       "<Figure size 432x288 with 1 Axes>"
      ]
     },
     "metadata": {
      "needs_background": "light"
     },
     "output_type": "display_data"
    }
   ],
   "source": [
    "#计算网格上的函数\n",
    "#np.meshgrid 是用来将坐标向量转化为坐标矩阵\n",
    "import matplotlib.pyplot as plt\n",
    "x = np.arange(-5, 5, 0.1)\n",
    "y = np.arange(-5, 5, 0.1)\n",
    "xx, yy = np.meshgrid(x, y, sparse=True)\n",
    "z = np.sin(xx**2 + yy**2)/(xx**2 +yy**2)\n",
    "h = plt.contourf(x,y,z)\n",
    "plt.show()"
   ]
  },
  {
   "cell_type": "code",
   "execution_count": 21,
   "metadata": {},
   "outputs": [
    {
     "data": {
      "text/plain": [
       "array([[-10.        ,  -0.90909091,  -0.47619048,  -0.32258065,\n",
       "         -0.24390244,  -0.19607843,  -0.16393443,  -0.14084507,\n",
       "         -0.12345679,  -0.10989011],\n",
       "       [  1.11111111, -10.        ,  -0.90909091,  -0.47619048,\n",
       "         -0.32258065,  -0.24390244,  -0.19607843,  -0.16393443,\n",
       "         -0.14084507,  -0.12345679],\n",
       "       [  0.52631579,   1.11111111, -10.        ,  -0.90909091,\n",
       "         -0.47619048,  -0.32258065,  -0.24390244,  -0.19607843,\n",
       "         -0.16393443,  -0.14084507],\n",
       "       [  0.34482759,   0.52631579,   1.11111111, -10.        ,\n",
       "         -0.90909091,  -0.47619048,  -0.32258065,  -0.24390244,\n",
       "         -0.19607843,  -0.16393443],\n",
       "       [  0.25641026,   0.34482759,   0.52631579,   1.11111111,\n",
       "        -10.        ,  -0.90909091,  -0.47619048,  -0.32258065,\n",
       "         -0.24390244,  -0.19607843],\n",
       "       [  0.20408163,   0.25641026,   0.34482759,   0.52631579,\n",
       "          1.11111111, -10.        ,  -0.90909091,  -0.47619048,\n",
       "         -0.32258065,  -0.24390244],\n",
       "       [  0.16949153,   0.20408163,   0.25641026,   0.34482759,\n",
       "          0.52631579,   1.11111111, -10.        ,  -0.90909091,\n",
       "         -0.47619048,  -0.32258065],\n",
       "       [  0.14492754,   0.16949153,   0.20408163,   0.25641026,\n",
       "          0.34482759,   0.52631579,   1.11111111, -10.        ,\n",
       "         -0.90909091,  -0.47619048],\n",
       "       [  0.12658228,   0.14492754,   0.16949153,   0.20408163,\n",
       "          0.25641026,   0.34482759,   0.52631579,   1.11111111,\n",
       "        -10.        ,  -0.90909091],\n",
       "       [  0.11235955,   0.12658228,   0.14492754,   0.16949153,\n",
       "          0.20408163,   0.25641026,   0.34482759,   0.52631579,\n",
       "          1.11111111, -10.        ]])"
      ]
     },
     "execution_count": 21,
     "metadata": {},
     "output_type": "execute_result"
    }
   ],
   "source": [
    "#47. Given two arrays, X and Y, construct the Cauchy matrix C (Cij =1/(xi - yj))\n",
    "x = np.linspace(1,10,10)\n",
    "y = np.linspace(1,10,10)+0.1\n",
    "c= 1/np.subtract.outer(x,y)\n",
    "c"
   ]
  },
  {
   "cell_type": "code",
   "execution_count": 31,
   "metadata": {},
   "outputs": [
    {
     "data": {
      "text/plain": [
       "2.220446049250313e-16"
      ]
     },
     "execution_count": 31,
     "metadata": {},
     "output_type": "execute_result"
    }
   ],
   "source": [
    "#48. Print the minimum and maximum representable value for each numpy scalar type (★★☆)\n",
    "#输出不同数据类型的最大最小值和占据的空间\n",
    "np.iinfo(np.int8).min\n",
    "np.iinfo(np.int8).max\n",
    "#finfo是输出float类型 iinfo是int类型\n",
    "#np.int8/32/64\n",
    "#np.float32/64\n",
    "np.finfo(np.float64).eps"
   ]
  },
  {
   "cell_type": "code",
   "execution_count": 27,
   "metadata": {},
   "outputs": [],
   "source": [
    "#49. How to print all the values of an array? (★★☆)\n",
    "#np.set_printoptions(threshold = np.nan)\n",
    "#有问题，无法设置，可以考虑maxsize\n",
    "#defualt一般是1000"
   ]
  },
  {
   "cell_type": "code",
   "execution_count": 34,
   "metadata": {},
   "outputs": [
    {
     "name": "stdout",
     "output_type": "stream",
     "text": [
      "52 52 99 0\n"
     ]
    }
   ],
   "source": [
    "#50. How to find the closest value (to a given scalar) in a vector? (★★☆)\n",
    "#找两个向量数值距离最近的量的位置\n",
    "z = np.arange(100)\n",
    "v = np.random.randint(0,100,100)\n",
    "index = np.abs((z-v)).argmin()\n",
    "index2 = np.abs((z-v)).argmax()\n",
    "print(z[index],v[index],z[index2],v[index2])"
   ]
  },
  {
   "cell_type": "markdown",
   "metadata": {},
   "source": [
    "\n",
    "51. Create a structured array representing a position (x,y) and a color (r,g,b) (★★☆)\n",
    "hint: dtype\n",
    "\n",
    "52. Consider a random vector with shape (100,2) representing coordinates, find point by point distances (★★☆)\n",
    "hint: np.atleast_2d, T, np.sqrt\n",
    "\n",
    "53. How to convert a float (32 bits) array into an integer (32 bits) in place?\n",
    "hint: view and [:] =\n",
    "\n",
    "54. How to read the following file? (★★☆)\n",
    "1, 2, 3, 4, 5\n",
    "6,  ,  , 7, 8\n",
    " ,  , 9,10,11\n",
    "hint: np.genfromtxt\n",
    "\n",
    "55. What is the equivalent of enumerate for numpy arrays? (★★☆)\n",
    "hint: np.ndenumerate, np.ndindex\n",
    "\n",
    "56. Generate a generic 2D Gaussian-like array (★★☆)\n",
    "hint: np.meshgrid, np.exp\n",
    "\n",
    "57. How to randomly place p elements in a 2D array? (★★☆)\n",
    "hint: np.put, np.random.choice\n",
    "\n",
    "58. Subtract the mean of each row of a matrix (★★☆)\n",
    "hint: mean(axis=,keepdims=)\n",
    "\n",
    "59. How to sort an array by the nth column? (★★☆)\n",
    "hint: argsort\n",
    "\n",
    "60. How to tell if a given 2D array has null columns? (★★☆)\n",
    "hint: any, ~"
   ]
  },
  {
   "cell_type": "code",
   "execution_count": 1,
   "metadata": {},
   "outputs": [],
   "source": [
    "import numpy as np"
   ]
  },
  {
   "cell_type": "code",
   "execution_count": 3,
   "metadata": {},
   "outputs": [
    {
     "name": "stderr",
     "output_type": "stream",
     "text": [
      "<ipython-input-3-d61de17f4dc5>:2: FutureWarning: Passing (type, 1) or '1type' as a synonym of type is deprecated; in a future version of numpy, it will be understood as (type, (1,)) / '(1,)type'.\n",
      "  z = np.zeros(5,[('position',[('x',float,1),('y',float,1)]),('color',[('r',float,1),('b',float,1),('g',float,1)])])\n"
     ]
    },
    {
     "data": {
      "text/plain": [
       "array([((1., 0.), (0., 0., 0.)), ((1., 0.), (0., 0., 0.)),\n",
       "       ((1., 0.), (0., 0., 0.)), ((1., 0.), (0., 0., 0.)),\n",
       "       ((1., 0.), (0., 0., 0.))],\n",
       "      dtype=[('position', [('x', '<f8'), ('y', '<f8')]), ('color', [('r', '<f8'), ('b', '<f8'), ('g', '<f8')])])"
      ]
     },
     "execution_count": 3,
     "metadata": {},
     "output_type": "execute_result"
    }
   ],
   "source": [
    "#51. Create a structured array representing a position (x,y) and a color (r,g,b) (★★☆)\n",
    "z = np.zeros(5,[('position',[('x',float,1),('y',float,1)]),('color',[('r',float,1),('b',float,1),('g',float,1)])])\n",
    "z\n",
    "#就是和46用的方法一样，就是指定每个数据的具体是啥\n",
    "z['position']['x'] = 1\n",
    "z"
   ]
  },
  {
   "cell_type": "code",
   "execution_count": 13,
   "metadata": {},
   "outputs": [
    {
     "data": {
      "text/plain": [
       "array([[ 0.        , 50.91168825, 83.43860018, 33.9411255 , 46.66904756,\n",
       "        15.55634919, 32.52691193, 69.29646456, 83.43860018,  9.89949494],\n",
       "       [50.91168825,  0.        , 32.52691193, 16.97056275,  4.24264069,\n",
       "        66.46803743, 18.38477631, 18.38477631, 32.52691193, 60.81118318],\n",
       "       [83.43860018, 32.52691193,  0.        , 49.49747468, 36.76955262,\n",
       "        98.99494937, 50.91168825, 14.14213562,  0.        , 93.33809512],\n",
       "       [33.9411255 , 16.97056275, 49.49747468,  0.        , 12.72792206,\n",
       "        49.49747468,  1.41421356, 35.35533906, 49.49747468, 43.84062043],\n",
       "       [46.66904756,  4.24264069, 36.76955262, 12.72792206,  0.        ,\n",
       "        62.22539674, 14.14213562, 22.627417  , 36.76955262, 56.56854249],\n",
       "       [15.55634919, 66.46803743, 98.99494937, 49.49747468, 62.22539674,\n",
       "         0.        , 48.08326112, 84.85281374, 98.99494937,  5.65685425],\n",
       "       [32.52691193, 18.38477631, 50.91168825,  1.41421356, 14.14213562,\n",
       "        48.08326112,  0.        , 36.76955262, 50.91168825, 42.42640687],\n",
       "       [69.29646456, 18.38477631, 14.14213562, 35.35533906, 22.627417  ,\n",
       "        84.85281374, 36.76955262,  0.        , 14.14213562, 79.19595949],\n",
       "       [83.43860018, 32.52691193,  0.        , 49.49747468, 36.76955262,\n",
       "        98.99494937, 50.91168825, 14.14213562,  0.        , 93.33809512],\n",
       "       [ 9.89949494, 60.81118318, 93.33809512, 43.84062043, 56.56854249,\n",
       "         5.65685425, 42.42640687, 79.19595949, 93.33809512,  0.        ]])"
      ]
     },
     "execution_count": 13,
     "metadata": {},
     "output_type": "execute_result"
    }
   ],
   "source": [
    "#52. Consider a random vector with shape (100,2) representing coordinates, find point by point distances (★★☆)\n",
    "z = np.random.randint(0,100,(10,2))\n",
    "x,y = np.atleast_2d(z[:,0],z[:,0])\n",
    "d = np.sqrt((x-x.T)**2 +(y-y.T)**2)\n",
    "d\n",
    "#X.T是转化成转置，其实就是计算向量的“相关矩阵”"
   ]
  },
  {
   "cell_type": "code",
   "execution_count": 20,
   "metadata": {},
   "outputs": [
    {
     "name": "stdout",
     "output_type": "stream",
     "text": [
      "[5.50613158 2.25875837 3.89363944 9.28953763 8.10222032 3.15688176\n",
      " 3.12048183 2.44975496 5.98010533 4.99369733]\n",
      "[5 2 3 9 8 3 3 2 5 4]\n"
     ]
    }
   ],
   "source": [
    "#53. How to convert a float (32 bits) array into an integer (32 bits) in place?\n",
    "z = np.random.rand(10)*10\n",
    "z1 = np.array([int(num) for num in z])\n",
    "print(z)\n",
    "print(z1)"
   ]
  },
  {
   "cell_type": "code",
   "execution_count": 3,
   "metadata": {},
   "outputs": [
    {
     "data": {
      "text/plain": [
       "array([[ 1.,  2.,  3.,  4.,  5.],\n",
       "       [ 6., nan, nan,  7.,  8.],\n",
       "       [nan, nan,  9., 10., 11.]])"
      ]
     },
     "execution_count": 3,
     "metadata": {},
     "output_type": "execute_result"
    }
   ],
   "source": [
    "#54. How to read the following file? (★★☆)\n",
    "\n",
    "data =  np.genfromtxt('try.txt',delimiter = ',',skip_header = 0)\n",
    "data"
   ]
  },
  {
   "cell_type": "code",
   "execution_count": null,
   "metadata": {},
   "outputs": [],
   "source": [
    "#55. What is the equivalent of enumerate for numpy arrays? (★★☆)\n",
    "#不知道在干嘛"
   ]
  },
  {
   "cell_type": "code",
   "execution_count": 9,
   "metadata": {},
   "outputs": [
    {
     "data": {
      "text/plain": [
       "array([[ 3.52190477,  4.10847004,  3.25177946,  1.00858664],\n",
       "       [ 1.88846869,  4.78075212,  4.46167265,  1.05238777],\n",
       "       [ 3.85203329,  4.13976731,  5.64717056,  6.80177012],\n",
       "       [-0.18955001,  5.22646684,  1.45936033,  5.73203991]])"
      ]
     },
     "execution_count": 9,
     "metadata": {},
     "output_type": "execute_result"
    }
   ],
   "source": [
    "#56. Generate a generic 2D Gaussian-like array (★★☆)\n",
    "#生成二维类高斯阵\n",
    "#通用方法\n",
    "#生成正态分布的数据一般是\n",
    "z = np.random.randn(4,4)\n",
    "sigma, mu = 2.0,2.0\n",
    "G = (z+mu)*sigma\n",
    "G"
   ]
  },
  {
   "cell_type": "code",
   "execution_count": 10,
   "metadata": {},
   "outputs": [],
   "source": [
    "#57. How to randomly place p elements in a 2D array? (★★☆)\n",
    "#如何在一个二维数组里随机放p个元素\n",
    "#没卵用"
   ]
  },
  {
   "cell_type": "code",
   "execution_count": 29,
   "metadata": {},
   "outputs": [
    {
     "name": "stdout",
     "output_type": "stream",
     "text": [
      "[[9 6]\n",
      " [0 9]]\n"
     ]
    },
    {
     "data": {
      "text/plain": [
       "array([7.5, 4.5])"
      ]
     },
     "execution_count": 29,
     "metadata": {},
     "output_type": "execute_result"
    }
   ],
   "source": [
    "#58. Subtract the mean of each row of a matrix (★★☆)\n",
    "g = np.random.randint(0,10,(2,2))\n",
    "print(g)\n",
    "g.mean(axis=1,keepdims=0)\n",
    "#axis = 1 就是按照行来平均\n",
    "# keepdims = 1 就是保留原来的矩阵形式"
   ]
  },
  {
   "cell_type": "code",
   "execution_count": 21,
   "metadata": {},
   "outputs": [
    {
     "name": "stdout",
     "output_type": "stream",
     "text": [
      "[[-0.23904762  0.05423502 -0.37411027 -1.49570668]\n",
      " [-1.05576565  0.39037606  0.23083633 -1.47380612]\n",
      " [-0.07398336  0.06988366  0.82358528  1.40088506]\n",
      " [-2.094775    0.61323342 -1.27031983  0.86601995]]\n"
     ]
    },
    {
     "data": {
      "text/plain": [
       "array([[-0.23904762,  0.05423502, -0.37411027, -1.49570668],\n",
       "       [-0.07398336,  0.06988366,  0.82358528,  1.40088506],\n",
       "       [-1.05576565,  0.39037606,  0.23083633, -1.47380612],\n",
       "       [-2.094775  ,  0.61323342, -1.27031983,  0.86601995]])"
      ]
     },
     "execution_count": 21,
     "metadata": {},
     "output_type": "execute_result"
    }
   ],
   "source": [
    "#59. How to sort an array by the nth column? (★★☆)\n",
    "\n",
    "print(z)\n",
    "z[z[:,1].argsort()]\n"
   ]
  },
  {
   "cell_type": "code",
   "execution_count": 36,
   "metadata": {},
   "outputs": [
    {
     "data": {
      "text/plain": [
       "False"
      ]
     },
     "execution_count": 36,
     "metadata": {},
     "output_type": "execute_result"
    }
   ],
   "source": [
    "#60. How to tell if a given 2D array has null columns? (★★☆)\n",
    "(~z.any(axis = 0)).any()"
   ]
  },
  {
   "cell_type": "markdown",
   "metadata": {},
   "source": [
    "61. Find the nearest value from a given value in an array (★★☆)\n",
    "hint: np.abs, argmin, flat\n",
    "\n",
    "62. Considering two arrays with shape (1,3) and (3,1), how to compute their sum using an iterator? (★★☆)\n",
    "hint: np.nditer\n",
    "\n",
    "63. Create an array class that has a name attribute (★★☆)\n",
    "hint: class method\n",
    "\n",
    "64. Consider a given vector, how to add 1 to each element indexed by a second vector (be careful with repeated indices)? (★★★)\n",
    "hint: np.bincount | np.add.at\n",
    "\n",
    "65. How to accumulate elements of a vector (X) to an array (F) based on an index list (I)? (★★★)\n",
    "hint: np.bincount\n",
    "\n",
    "66. Considering a (w,h,3) image of (dtype=ubyte), compute the number of unique colors (★★☆)\n",
    "hint: np.unique\n",
    "\n",
    "67. Considering a four dimensions array, how to get sum over the last two axis at once? (★★★)\n",
    "hint: sum(axis=(-2,-1))\n",
    "\n",
    "68. Considering a one-dimensional vector D, how to compute means of subsets of D using a vector S of same size describing subset indices? (★★★)\n",
    "hint: np.bincount\n",
    "\n",
    "69. How to get the diagonal of a dot product? (★★★)\n",
    "hint: np.diag\n",
    "\n",
    "70. Consider the vector [1, 2, 3, 4, 5], how to build a new vector with 3 consecutive zeros interleaved between each value? (★★★)\n",
    "hint: array[::4]\n"
   ]
  },
  {
   "cell_type": "code",
   "execution_count": 10,
   "metadata": {},
   "outputs": [
    {
     "name": "stdout",
     "output_type": "stream",
     "text": [
      "z中距离75最近的数在第5个，且绝对距离为7\n"
     ]
    }
   ],
   "source": [
    "#61. Find the nearest value from a given value in an array (★★☆)\n",
    "#hint: np.abs, argmin, flat\n",
    "z = np.random.randint(0,100,10)\n",
    "d = np.abs(z-75)\n",
    "index = np.argmin(d)\n",
    "print('z中距离75最近的数在第{}个，且绝对距离为{}'.format(index,d[index]))"
   ]
  },
  {
   "cell_type": "code",
   "execution_count": 23,
   "metadata": {},
   "outputs": [
    {
     "name": "stdout",
     "output_type": "stream",
     "text": [
      "[[6 0 1 3 8 7]]\n",
      "[[9]\n",
      " [3]\n",
      " [7]\n",
      " [5]\n",
      " [2]\n",
      " [9]]\n"
     ]
    },
    {
     "data": {
      "text/plain": [
       "array([[15,  9, 10, 12, 17, 16],\n",
       "       [ 9,  3,  4,  6, 11, 10],\n",
       "       [13,  7,  8, 10, 15, 14],\n",
       "       [11,  5,  6,  8, 13, 12],\n",
       "       [ 8,  2,  3,  5, 10,  9],\n",
       "       [15,  9, 10, 12, 17, 16]])"
      ]
     },
     "execution_count": 23,
     "metadata": {},
     "output_type": "execute_result"
    }
   ],
   "source": [
    "#62. Considering two arrays with shape (1,3) and (3,1), how to compute their sum using an iterator? (★★☆)\n",
    "#用迭代器计算两个形状不同的矩阵的和\n",
    "z = np.random.randint(0,10,6).reshape(1,6)\n",
    "print(z)\n",
    "z2 = np.random.randint(0,10,6).reshape(6,1)\n",
    "print(z2)\n",
    "it = np.nditer([z,z2,None])\n",
    "for x,y,z3 in it:\n",
    "    z3[...] = x+y\n",
    "it.operands[2]"
   ]
  },
  {
   "cell_type": "code",
   "execution_count": null,
   "metadata": {},
   "outputs": [],
   "source": [
    "#63. Create an array class that has a name attribute (★★☆)\n",
    "#hint: class method\n"
   ]
  },
  {
   "cell_type": "code",
   "execution_count": null,
   "metadata": {},
   "outputs": [],
   "source": [
    "\n",
    "64. Consider a given vector, how to add 1 to each element indexed by a second vector (be careful with repeated indices)? (★★★)\n",
    "hint: np.bincount | np.add.at\n"
   ]
  },
  {
   "cell_type": "code",
   "execution_count": null,
   "metadata": {},
   "outputs": [],
   "source": [
    "\n",
    "65. How to accumulate elements of a vector (X) to an array (F) based on an index list (I)? (★★★)\n",
    "hint: np.bincount\n"
   ]
  },
  {
   "cell_type": "code",
   "execution_count": null,
   "metadata": {},
   "outputs": [],
   "source": [
    "\n",
    "66. Considering a (w,h,3) image of (dtype=ubyte), compute the number of unique colors (★★☆)\n",
    "hint: np.unique\n",
    "\n"
   ]
  },
  {
   "cell_type": "code",
   "execution_count": null,
   "metadata": {},
   "outputs": [],
   "source": [
    "67. Considering a four dimensions array, how to get sum over the last two axis at once? (★★★)\n",
    "hint: sum(axis=(-2,-1))\n",
    "\n"
   ]
  },
  {
   "cell_type": "code",
   "execution_count": null,
   "metadata": {},
   "outputs": [],
   "source": [
    "68. Considering a one-dimensional vector D, how to compute means of subsets of D using a vector S of same size describing subset indices? (★★★)\n",
    "hint: np.bincount\n",
    "\n"
   ]
  },
  {
   "cell_type": "code",
   "execution_count": null,
   "metadata": {},
   "outputs": [],
   "source": [
    "69. How to get the diagonal of a dot product? (★★★)\n",
    "hint: np.diag\n",
    "\n"
   ]
  },
  {
   "cell_type": "code",
   "execution_count": null,
   "metadata": {},
   "outputs": [],
   "source": [
    "70. Consider the vector [1, 2, 3, 4, 5], how to build a new vector with 3 consecutive zeros interleaved between each value? (★★★)\n",
    "hint: array[::4]"
   ]
  },
  {
   "cell_type": "markdown",
   "metadata": {},
   "source": [
    "71. Consider an array of dimension (5,5,3), how to mulitply it by an array with dimensions (5,5)? (★★★)\n",
    "hint: array[:, :, None]\n",
    "\n",
    "72. How to swap two rows of an array? (★★★)\n",
    "hint: array[[]] = array[[]]\n",
    "\n",
    "73. Consider a set of 10 triplets describing 10 triangles (with shared vertices), find the set of unique line segments composing all the triangles (★★★)\n",
    "hint: repeat, np.roll, np.sort, view, np.unique\n",
    "\n",
    "74. Given a sorted array C that corresponds to a bincount, how to produce an array A such that np.bincount(A) == C? (★★★)\n",
    "hint: np.repeat\n",
    "\n",
    "75. How to compute averages using a sliding window over an array? (★★★)\n",
    "hint: np.cumsum\n",
    "\n",
    "76. Consider a one-dimensional array Z, build a two-dimensional array whose first row is (Z[0],Z[1],Z[2]) and each subsequent row is shifted by 1 (last row should be (Z[-3],Z[-2],Z[-1]) (★★★)\n",
    "hint: from numpy.lib import stride_tricks\n",
    "\n",
    "77. How to negate a boolean, or to change the sign of a float inplace? (★★★)\n",
    "hint: np.logical_not, np.negative\n",
    "\n",
    "78. Consider 2 sets of points P0,P1 describing lines (2d) and a point p, how to compute distance from p to each line i (P0[i],P1[i])? (★★★)\n",
    "No hints provided...\n",
    "\n",
    "79. Consider 2 sets of points P0,P1 describing lines (2d) and a set of points P, how to compute distance from each point j (P[j]) to each line i (P0[i],P1[i])? (★★★)\n",
    "No hints provided...\n",
    "\n",
    "80. Consider an arbitrary array, write a function that extract a subpart with a fixed shape and centered on a given element (pad with a fill value when necessary) (★★★)\n",
    "hint: minimum maximum"
   ]
  },
  {
   "cell_type": "code",
   "execution_count": null,
   "metadata": {},
   "outputs": [],
   "source": []
  },
  {
   "cell_type": "code",
   "execution_count": null,
   "metadata": {},
   "outputs": [],
   "source": []
  },
  {
   "cell_type": "code",
   "execution_count": null,
   "metadata": {},
   "outputs": [],
   "source": []
  },
  {
   "cell_type": "markdown",
   "metadata": {},
   "source": [
    "81. Consider an array Z = [1,2,3,4,5,6,7,8,9,10,11,12,13,14], how to generate an array R = [[1,2,3,4], [2,3,4,5], [3,4,5,6], ..., [11,12,13,14]]? (★★★)\n",
    "hint: stride_tricks.as_strided\n",
    "\n",
    "82. Compute a matrix rank (★★★)\n",
    "hint: np.linalg.svd\n",
    "\n",
    "83. How to find the most frequent value in an array?\n",
    "hint: np.bincount, argmax\n",
    "\n",
    "84. Extract all the contiguous 3x3 blocks from a random 10x10 matrix (★★★)\n",
    "hint: stride_tricks.as_strided\n",
    "\n",
    "85. Create a 2D array subclass such that Z[i,j] == Z[j,i] (★★★)\n",
    "hint: class method\n",
    "\n",
    "86. Consider a set of p matrices wich shape (n,n) and a set of p vectors with shape (n,1). How to compute the sum of of the p matrix products at once? (result has shape (n,1)) (★★★)\n",
    "hint: np.tensordot\n",
    "\n",
    "87. Consider a 16x16 array, how to get the block-sum (block size is 4x4)? (★★★)\n",
    "hint: np.add.reduceat\n",
    "\n",
    "88. How to implement the Game of Life using numpy arrays? (★★★)\n",
    "No hints provided...\n",
    "\n",
    "89. How to get the n largest values of an array (★★★)\n",
    "hint: np.argsort | np.argpartition"
   ]
  },
  {
   "cell_type": "code",
   "execution_count": null,
   "metadata": {},
   "outputs": [],
   "source": []
  },
  {
   "cell_type": "code",
   "execution_count": null,
   "metadata": {},
   "outputs": [],
   "source": []
  },
  {
   "cell_type": "code",
   "execution_count": null,
   "metadata": {},
   "outputs": [],
   "source": []
  },
  {
   "cell_type": "markdown",
   "metadata": {},
   "source": [
    "90. Given an arbitrary number of vectors, build the cartesian product (every combinations of every item) (★★★)\n",
    "hint: np.indices\n",
    "\n",
    "91. How to create a record array from a regular array? (★★★)\n",
    "hint: np.core.records.fromarrays\n",
    "\n",
    "92. Consider a large vector Z, compute Z to the power of 3 using 3 different methods (★★★)\n",
    "hint: np.power, *, np.einsum\n",
    "\n",
    "93. Consider two arrays A and B of shape (8,3) and (2,2). How to find rows of A that contain elements of each row of B regardless of the order of the elements in B? (★★★)\n",
    "hint: np.where\n",
    "\n",
    "94. Considering a 10x3 matrix, extract rows with unequal values (e.g. [2,2,3]) (★★★)\n",
    "No hints provided...\n",
    "\n",
    "95. Convert a vector of ints into a matrix binary representation (★★★)\n",
    "hint: np.unpackbits\n",
    "\n",
    "96. Given a two dimensional array, how to extract unique rows? (★★★)\n",
    "hint: np.ascontiguousarray | np.unique\n",
    "\n",
    "97. Considering 2 vectors A & B, write the einsum equivalent of inner, outer, sum, and mul function (★★★)\n",
    "hint: np.einsum\n",
    "\n",
    "98. Considering a path described by two vectors (X,Y), how to sample it using equidistant samples (★★★)?\n",
    "hint: np.cumsum, np.interp\n",
    "\n",
    "99. Given an integer n and a 2D array X, select from X the rows which can be interpreted as draws from a multinomial distribution with n degrees, i.e., the rows which only contain integers and which sum to n. (★★★)\n",
    "hint: np.logical_and.reduce, np.mod\n",
    "\n",
    "100. Compute bootstrapped 95% confidence intervals for the mean of a 1D array X (i.e., resample the elements of an array with replacement N times, compute the mean of each sample, and then compute percentiles over the means). (★★★)\n",
    "hint: np.percentile"
   ]
  },
  {
   "cell_type": "code",
   "execution_count": null,
   "metadata": {},
   "outputs": [],
   "source": []
  },
  {
   "cell_type": "code",
   "execution_count": null,
   "metadata": {},
   "outputs": [],
   "source": []
  },
  {
   "cell_type": "code",
   "execution_count": null,
   "metadata": {},
   "outputs": [],
   "source": []
  },
  {
   "cell_type": "code",
   "execution_count": null,
   "metadata": {},
   "outputs": [],
   "source": []
  }
 ],
 "metadata": {
  "kernelspec": {
   "display_name": "Python 3",
   "language": "python",
   "name": "python3"
  },
  "language_info": {
   "codemirror_mode": {
    "name": "ipython",
    "version": 3
   },
   "file_extension": ".py",
   "mimetype": "text/x-python",
   "name": "python",
   "nbconvert_exporter": "python",
   "pygments_lexer": "ipython3",
   "version": "3.8.5"
  }
 },
 "nbformat": 4,
 "nbformat_minor": 2
}
